{
 "cells": [
  {
   "cell_type": "markdown",
   "metadata": {},
   "source": [
    "# Pre processing"
   ]
  },
  {
   "cell_type": "code",
   "execution_count": 21,
   "metadata": {},
   "outputs": [],
   "source": [
    "import pandas as pd\n",
    "import numpy as np\n",
    "import seaborn as sns\n",
    "import matplotlib.pyplot as plt\n",
    "%matplotlib inline"
   ]
  },
  {
   "cell_type": "code",
   "execution_count": 22,
   "metadata": {},
   "outputs": [],
   "source": [
    "df = pd.read_csv('data/movie_metadata.csv')"
   ]
  },
  {
   "cell_type": "code",
   "execution_count": 23,
   "metadata": {},
   "outputs": [],
   "source": [
    "for column in df.select_dtypes(['float64','int64']).columns:\n",
    "    df[column] = df[column].fillna(value=np.mean(df[column]))"
   ]
  },
  {
   "cell_type": "code",
   "execution_count": 24,
   "metadata": {},
   "outputs": [],
   "source": [
    "df.dropna(inplace=True)"
   ]
  },
  {
   "cell_type": "code",
   "execution_count": 25,
   "metadata": {},
   "outputs": [],
   "source": [
    "df.drop(columns=['aspect_ratio','title_year','facenumber_in_poster','director_facebook_likes','actor_3_facebook_likes','actor_1_facebook_likes','gross','cast_total_facebook_likes','actor_2_facebook_likes', 'budget'],inplace=True)"
   ]
  },
  {
   "cell_type": "code",
   "execution_count": 26,
   "metadata": {},
   "outputs": [],
   "source": [
    "for column in ['genres','color','content_rating']:\n",
    "    dummies = pd.DataFrame(pd.Series(df[column]).str.get_dummies())\n",
    "    df = pd.concat([df,dummies], axis = 1)\n",
    "    df.drop([column],axis=1,inplace=True)"
   ]
  },
  {
   "cell_type": "code",
   "execution_count": 27,
   "metadata": {},
   "outputs": [],
   "source": [
    "from sklearn import preprocessing\n",
    "le_actors = preprocessing.LabelEncoder()"
   ]
  },
  {
   "cell_type": "code",
   "execution_count": 28,
   "metadata": {},
   "outputs": [],
   "source": [
    "all_actors = pd.concat([df['actor_1_name'], df['actor_2_name'], df['actor_3_name']], ignore_index=True)\n",
    "\n",
    "\n",
    "le_actors.fit(all_actors)\n",
    "le_actors.classes_\n",
    "\n",
    "numeric_actor_1 = le_actors.transform(df['actor_1_name'])\n",
    "df['actor_1_name'] = numeric_actor_1\n",
    "\n",
    "\n",
    "numeric_actor_2 = le_actors.transform(df['actor_2_name'])\n",
    "df['actor_2_name'] = numeric_actor_2\n",
    "\n",
    "numeric_actor_3 = le_actors.transform(df['actor_3_name'])\n",
    "df['actor_3_name'] = numeric_actor_3"
   ]
  },
  {
   "cell_type": "code",
   "execution_count": 29,
   "metadata": {},
   "outputs": [],
   "source": [
    "le_director_name = preprocessing.LabelEncoder()\n",
    "le_director_name.fit(df['director_name'])\n",
    "le_director_name.classes_\n",
    "\n",
    "numeric_director = le_director_name.transform(df['director_name'])\n",
    "df['director_name'] = numeric_director"
   ]
  },
  {
   "cell_type": "code",
   "execution_count": 30,
   "metadata": {},
   "outputs": [],
   "source": [
    "df.drop(['movie_imdb_link', 'movie_title'], axis=1,inplace=True)"
   ]
  },
  {
   "cell_type": "code",
   "execution_count": 31,
   "metadata": {},
   "outputs": [],
   "source": [
    "le_language = preprocessing.LabelEncoder()\n",
    "le_language.fit(df['language'])\n",
    "le_language.classes_\n",
    "\n",
    "numeric_language = le_language.transform(df['language'])\n",
    "df['language'] = numeric_language"
   ]
  },
  {
   "cell_type": "code",
   "execution_count": 32,
   "metadata": {},
   "outputs": [],
   "source": [
    "le_country = preprocessing.LabelEncoder()\n",
    "le_country.fit(df['country'])\n",
    "le_country.classes_\n",
    "\n",
    "numeric_country = le_country.transform(df['country'])\n",
    "df['country'] = numeric_country"
   ]
  },
  {
   "cell_type": "markdown",
   "metadata": {},
   "source": [
    "# SVR"
   ]
  },
  {
   "cell_type": "markdown",
   "metadata": {},
   "source": [
    "SVR é um método de regressão supervisionado de machine learning. Ele é derivado do Support Vector Machine. Alguns elementos básicos do SVM ainda estão presentes como **maximun margin**. O SVR utiliza a função epsilon para ignorar os errors das obsevações que estão presentes dentro da **maximun margin**, também chamada de epsilon _intensive band_. Na execução do SVR as features são mapeadas para um espaço dimensional de _m_ dimensões usando um mapeamento não linear, então o modelo é construido utilizando esse espaço dimensional.\n",
    "\n",
    "\n",
    "Em conjunto com a epsilon _intensive loss function_ é possível obter uma boa generalização dos dados\n",
    "Referência: < http://kernelsvm.tripod.com/ >"
   ]
  },
  {
   "cell_type": "code",
   "execution_count": 33,
   "metadata": {},
   "outputs": [],
   "source": [
    "df_test = df.drop(['plot_keywords'], axis=1)\n",
    "X = df_test.drop(['imdb_score'],axis=1)\n",
    "y = df_test['imdb_score']\n",
    "\n",
    "from sklearn.preprocessing import MinMaxScaler\n",
    "scaler = MinMaxScaler()\n",
    "X_scaled = scaler.fit_transform(X)\n",
    "\n",
    "from  sklearn.model_selection import train_test_split\n",
    "X_train, X_test, y_train, y_test = train_test_split(X_scaled, y, test_size=0.3)\n",
    "\n",
    "from sklearn.linear_model import LinearRegression\n",
    "\n",
    "from sklearn.svm import SVR\n",
    "\n"
   ]
  },
  {
   "cell_type": "code",
   "execution_count": 34,
   "metadata": {},
   "outputs": [],
   "source": [
    "results = []\n",
    "for x in np.arange(0.1,11,0.1):\n",
    "    svr = SVR(kernel='linear', C=x)\n",
    "    svr.fit(X_train,y_train)\n",
    "    results.append(svr.score(X_test,y_test))"
   ]
  },
  {
   "cell_type": "code",
   "execution_count": 35,
   "metadata": {},
   "outputs": [
    {
     "data": {
      "text/plain": [
       "[0.4203766380369594,\n",
       " 0.43348025639862764,\n",
       " 0.43792469153531743,\n",
       " 0.44002360459614437,\n",
       " 0.4402143650699555,\n",
       " 0.44076864923689313,\n",
       " 0.4415849408928934,\n",
       " 0.4425812156914996,\n",
       " 0.44319589664925413,\n",
       " 0.443172280075121,\n",
       " 0.4425979298419597,\n",
       " 0.44271648035315164,\n",
       " 0.4430310304346373,\n",
       " 0.44314198143648253,\n",
       " 0.44329950339563884,\n",
       " 0.4432265328627142,\n",
       " 0.44336592333464353,\n",
       " 0.4433131549488376,\n",
       " 0.44335672139923954,\n",
       " 0.44344087498508156,\n",
       " 0.4435425441393996,\n",
       " 0.44356606334524806,\n",
       " 0.44366839230985894,\n",
       " 0.44382991614448736,\n",
       " 0.44390646409901735,\n",
       " 0.44392593571013195,\n",
       " 0.44401748173485706,\n",
       " 0.44407143208917477,\n",
       " 0.4441174748774489,\n",
       " 0.44403058330107986,\n",
       " 0.4440698587742396,\n",
       " 0.4440775947919034,\n",
       " 0.4440475093807421,\n",
       " 0.4440381133925411,\n",
       " 0.4439249843993813,\n",
       " 0.44385437231133107,\n",
       " 0.4438501081312738,\n",
       " 0.44383354766915556,\n",
       " 0.44383839631489613,\n",
       " 0.44381315702203294,\n",
       " 0.4437093059811699,\n",
       " 0.4436419404044233,\n",
       " 0.44359274691329176,\n",
       " 0.44360627592082763,\n",
       " 0.4436824806224199,\n",
       " 0.4435798075037559,\n",
       " 0.44355184677267917,\n",
       " 0.44360846465115333,\n",
       " 0.4436139599950443,\n",
       " 0.4436183870151216,\n",
       " 0.44364048529346123,\n",
       " 0.44372748409478036,\n",
       " 0.4437265547133403,\n",
       " 0.4436879426539079,\n",
       " 0.44375450750996626,\n",
       " 0.44373746262058245,\n",
       " 0.44373590684790665,\n",
       " 0.4437324572301766,\n",
       " 0.44372511974524315,\n",
       " 0.44375051244131986,\n",
       " 0.4437335178848345,\n",
       " 0.4437647530048708,\n",
       " 0.4437642405442733,\n",
       " 0.4437483869815405,\n",
       " 0.4436654947486463,\n",
       " 0.44377811379343135,\n",
       " 0.4437730764977158,\n",
       " 0.44373663453490503,\n",
       " 0.44368827102515795,\n",
       " 0.4437945772112899,\n",
       " 0.44377567295567155,\n",
       " 0.44380567743746113,\n",
       " 0.4437740310160554,\n",
       " 0.44380736118848396,\n",
       " 0.4437792092907048,\n",
       " 0.44379931890053526,\n",
       " 0.4437633194517053,\n",
       " 0.44378009784853306,\n",
       " 0.44382099273614806,\n",
       " 0.4437344096433237,\n",
       " 0.44380436217293473,\n",
       " 0.44380489708557136,\n",
       " 0.4437654511796669,\n",
       " 0.4438211213830479,\n",
       " 0.44377045145094357,\n",
       " 0.44380604409285535,\n",
       " 0.44378631119820827,\n",
       " 0.44373540592114025,\n",
       " 0.4437693601010757,\n",
       " 0.443839506879265,\n",
       " 0.4438188566799224,\n",
       " 0.44374872710006563,\n",
       " 0.44381842776949365,\n",
       " 0.4438337062493666,\n",
       " 0.4438489306787441,\n",
       " 0.44381777161777974,\n",
       " 0.4437996624094582,\n",
       " 0.4437733532776071,\n",
       " 0.4438265318652572,\n",
       " 0.4437449658727657,\n",
       " 0.4437652809967373,\n",
       " 0.4438413918575911,\n",
       " 0.4437821618143861,\n",
       " 0.4438322132123863,\n",
       " 0.44389861995276514,\n",
       " 0.4439098798874159,\n",
       " 0.44380693405616456,\n",
       " 0.4438282878561739,\n",
       " 0.4439135789708343]"
      ]
     },
     "execution_count": 35,
     "metadata": {},
     "output_type": "execute_result"
    }
   ],
   "source": [
    "results"
   ]
  },
  {
   "cell_type": "code",
   "execution_count": 36,
   "metadata": {},
   "outputs": [
    {
     "data": {
      "text/plain": [
       "0.4004169783009675"
      ]
     },
     "execution_count": 36,
     "metadata": {},
     "output_type": "execute_result"
    }
   ],
   "source": [
    "svr = SVR(kernel='rbf')\n",
    "svr.fit(X_train,y_train)\n",
    "svr.score(X_test,y_test)"
   ]
  },
  {
   "cell_type": "code",
   "execution_count": 37,
   "metadata": {},
   "outputs": [
    {
     "data": {
      "text/plain": [
       "0.43359904943948324"
      ]
     },
     "execution_count": 37,
     "metadata": {},
     "output_type": "execute_result"
    }
   ],
   "source": [
    "from sklearn.svm import LinearSVR\n",
    "svrl = LinearSVR()\n",
    "svrl.fit(X_train,y_train)\n",
    "svrl.score(X_test,y_test)"
   ]
  },
  {
   "cell_type": "markdown",
   "metadata": {},
   "source": [
    "# K-fold"
   ]
  },
  {
   "cell_type": "markdown",
   "metadata": {},
   "source": [
    "## Linear Regression"
   ]
  },
  {
   "cell_type": "code",
   "execution_count": 38,
   "metadata": {},
   "outputs": [
    {
     "name": "stdout",
     "output_type": "stream",
     "text": [
      "0.39817386175261066\n"
     ]
    }
   ],
   "source": [
    "from sklearn.model_selection import cross_val_score\n",
    "cv_result = cross_val_score(LinearRegression(),X,y,cv=5)\n",
    "print(np.mean(cv_result))"
   ]
  },
  {
   "cell_type": "markdown",
   "metadata": {},
   "source": [
    "## SVR (rbf)"
   ]
  },
  {
   "cell_type": "code",
   "execution_count": 39,
   "metadata": {},
   "outputs": [],
   "source": [
    "results = []\n",
    "for x in np.arange(0.1,11,0.1):\n",
    "    svr = SVR(kernel='rbf', C=x)\n",
    "    svr.fit(X_train,y_train)\n",
    "    results.append(svr.score(X_test,y_test))"
   ]
  },
  {
   "cell_type": "code",
   "execution_count": 41,
   "metadata": {},
   "outputs": [
    {
     "data": {
      "text/plain": [
       "[0.2247539197206837,\n",
       " 0.2877743782970116,\n",
       " 0.3233624661903498,\n",
       " 0.3456727759470095,\n",
       " 0.3608177980631976,\n",
       " 0.3722973307443075,\n",
       " 0.38021443999574067,\n",
       " 0.3877109014679996,\n",
       " 0.39439472189735175,\n",
       " 0.4004169783009675,\n",
       " 0.4046690119141616,\n",
       " 0.40885782017838884,\n",
       " 0.4119715600994419,\n",
       " 0.4147677051689962,\n",
       " 0.41739373482539716,\n",
       " 0.419493592383899,\n",
       " 0.4223389588872305,\n",
       " 0.4241818438297451,\n",
       " 0.42621668482157105,\n",
       " 0.42759003104217014,\n",
       " 0.42889073870718736,\n",
       " 0.4303367055037257,\n",
       " 0.43218284130151585,\n",
       " 0.43371002796852953,\n",
       " 0.4350914717716665,\n",
       " 0.43589775712380113,\n",
       " 0.43703378487293565,\n",
       " 0.43900642048257976,\n",
       " 0.44024417470312194,\n",
       " 0.44101926847270995,\n",
       " 0.44223539295392733,\n",
       " 0.4432666376985398,\n",
       " 0.4441827683270248,\n",
       " 0.44505868867963644,\n",
       " 0.445930079851967,\n",
       " 0.44668385574094993,\n",
       " 0.4476136068390433,\n",
       " 0.448305860536419,\n",
       " 0.4490905885547949,\n",
       " 0.44979500019979707,\n",
       " 0.4502670219183106,\n",
       " 0.4507711039900116,\n",
       " 0.4513072558139805,\n",
       " 0.45175356893297347,\n",
       " 0.4520546388936828,\n",
       " 0.45232976300199756,\n",
       " 0.4529359719754056,\n",
       " 0.4536207787866612,\n",
       " 0.45423870654686493,\n",
       " 0.4547300265813521,\n",
       " 0.4551173043581849,\n",
       " 0.4555200933115055,\n",
       " 0.4559930360509167,\n",
       " 0.45642566283725405,\n",
       " 0.4568158659167472,\n",
       " 0.4572082607703672,\n",
       " 0.4575611935777119,\n",
       " 0.4579455492309211,\n",
       " 0.45835714410799233,\n",
       " 0.4587332842641181,\n",
       " 0.4590549581140289,\n",
       " 0.4593978619720037,\n",
       " 0.4597865800273103,\n",
       " 0.46015607908817757,\n",
       " 0.4604812977912556,\n",
       " 0.4607734896897679,\n",
       " 0.4610663730535499,\n",
       " 0.46125402629941026,\n",
       " 0.4614402294178326,\n",
       " 0.46160947140232234,\n",
       " 0.4618300649355418,\n",
       " 0.4620083006921438,\n",
       " 0.4622090421610943,\n",
       " 0.4623612737857808,\n",
       " 0.46257132141528173,\n",
       " 0.46281486314557757,\n",
       " 0.4630011662363851,\n",
       " 0.4631872707314767,\n",
       " 0.4633861408658638,\n",
       " 0.4636641725027653,\n",
       " 0.46393639279877136,\n",
       " 0.46415890547305055,\n",
       " 0.4644183862754211,\n",
       " 0.46471055555074464,\n",
       " 0.4650114085943036,\n",
       " 0.46531104650610844,\n",
       " 0.4655655040759498,\n",
       " 0.465811044059271,\n",
       " 0.4660039407049601,\n",
       " 0.46620119519954517,\n",
       " 0.46640474919749203,\n",
       " 0.4666380535237846,\n",
       " 0.46687418207561493,\n",
       " 0.4671093498671948,\n",
       " 0.4673394736655624,\n",
       " 0.46752479188414414,\n",
       " 0.4677347320508288,\n",
       " 0.4679042896051897,\n",
       " 0.4681206703696571,\n",
       " 0.4683290541523576,\n",
       " 0.4685302032054969,\n",
       " 0.46872258671085143,\n",
       " 0.46891490842340683,\n",
       " 0.46912159029163314,\n",
       " 0.4693373537019132,\n",
       " 0.4695551366431351,\n",
       " 0.46975321877122816,\n",
       " 0.4699483242671234,\n",
       " 0.47014576224469906]"
      ]
     },
     "execution_count": 41,
     "metadata": {},
     "output_type": "execute_result"
    }
   ],
   "source": [
    "results"
   ]
  },
  {
   "cell_type": "code",
   "execution_count": null,
   "metadata": {},
   "outputs": [],
   "source": []
  }
 ],
 "metadata": {
  "kernelspec": {
   "display_name": "Python 3",
   "language": "python",
   "name": "python3"
  },
  "language_info": {
   "codemirror_mode": {
    "name": "ipython",
    "version": 3
   },
   "file_extension": ".py",
   "mimetype": "text/x-python",
   "name": "python",
   "nbconvert_exporter": "python",
   "pygments_lexer": "ipython3",
   "version": "3.6.5"
  }
 },
 "nbformat": 4,
 "nbformat_minor": 2
}
