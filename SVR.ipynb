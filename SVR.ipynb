{
 "cells": [
  {
   "cell_type": "code",
   "execution_count": 1,
   "metadata": {},
   "outputs": [],
   "source": [
    "import pandas as pd\n",
    "import numpy as np\n",
    "import seaborn as sns\n",
    "import matplotlib.pyplot as plt\n",
    "%matplotlib inline"
   ]
  },
  {
   "cell_type": "code",
   "execution_count": 2,
   "metadata": {},
   "outputs": [],
   "source": [
    "df = pd.read_csv('data/movie_metadata.csv')"
   ]
  },
  {
   "cell_type": "code",
   "execution_count": 3,
   "metadata": {},
   "outputs": [],
   "source": [
    "for column in df.select_dtypes(['float64','int64']).columns:\n",
    "    df[column] = df[column].fillna(value=np.mean(df[column]))"
   ]
  },
  {
   "cell_type": "code",
   "execution_count": 4,
   "metadata": {},
   "outputs": [],
   "source": [
    "df.dropna(inplace=True)"
   ]
  },
  {
   "cell_type": "code",
   "execution_count": 5,
   "metadata": {},
   "outputs": [],
   "source": [
    "df.drop(columns=['aspect_ratio','title_year','facenumber_in_poster','director_facebook_likes','actor_3_facebook_likes','actor_1_facebook_likes','gross','cast_total_facebook_likes','actor_2_facebook_likes', 'budget'],inplace=True)"
   ]
  },
  {
   "cell_type": "code",
   "execution_count": 6,
   "metadata": {},
   "outputs": [],
   "source": [
    "for column in ['genres','color','content_rating']:\n",
    "    dummies = pd.DataFrame(pd.Series(df[column]).str.get_dummies())\n",
    "    df = pd.concat([df,dummies], axis = 1)\n",
    "    df.drop([column],axis=1,inplace=True)"
   ]
  },
  {
   "cell_type": "code",
   "execution_count": 7,
   "metadata": {},
   "outputs": [],
   "source": [
    "from sklearn import preprocessing\n",
    "le_actors = preprocessing.LabelEncoder()"
   ]
  },
  {
   "cell_type": "code",
   "execution_count": 8,
   "metadata": {},
   "outputs": [],
   "source": [
    "all_actors = pd.concat([df['actor_1_name'], df['actor_2_name'], df['actor_3_name']], ignore_index=True)\n",
    "\n",
    "\n",
    "le_actors.fit(all_actors)\n",
    "le_actors.classes_\n",
    "\n",
    "numeric_actor_1 = le_actors.transform(df['actor_1_name'])\n",
    "df['actor_1_name'] = numeric_actor_1\n",
    "\n",
    "\n",
    "numeric_actor_2 = le_actors.transform(df['actor_2_name'])\n",
    "df['actor_2_name'] = numeric_actor_2\n",
    "\n",
    "numeric_actor_3 = le_actors.transform(df['actor_3_name'])\n",
    "df['actor_3_name'] = numeric_actor_3"
   ]
  },
  {
   "cell_type": "code",
   "execution_count": 9,
   "metadata": {},
   "outputs": [],
   "source": [
    "le_director_name = preprocessing.LabelEncoder()\n",
    "le_director_name.fit(df['director_name'])\n",
    "le_director_name.classes_\n",
    "\n",
    "numeric_director = le_director_name.transform(df['director_name'])\n",
    "df['director_name'] = numeric_director"
   ]
  },
  {
   "cell_type": "code",
   "execution_count": 10,
   "metadata": {},
   "outputs": [],
   "source": [
    "df.drop(['movie_imdb_link', 'movie_title'], axis=1,inplace=True)"
   ]
  },
  {
   "cell_type": "code",
   "execution_count": 11,
   "metadata": {},
   "outputs": [],
   "source": [
    "le_language = preprocessing.LabelEncoder()\n",
    "le_language.fit(df['language'])\n",
    "le_language.classes_\n",
    "\n",
    "numeric_language = le_language.transform(df['language'])\n",
    "df['language'] = numeric_language"
   ]
  },
  {
   "cell_type": "code",
   "execution_count": 12,
   "metadata": {},
   "outputs": [],
   "source": [
    "le_country = preprocessing.LabelEncoder()\n",
    "le_country.fit(df['country'])\n",
    "le_country.classes_\n",
    "\n",
    "numeric_country = le_country.transform(df['country'])\n",
    "df['country'] = numeric_country"
   ]
  },
  {
   "cell_type": "markdown",
   "metadata": {},
   "source": [
    "# SVR"
   ]
  },
  {
   "cell_type": "markdown",
   "metadata": {},
   "source": [
    "SVR é um método de regressão supervisionado de machine learning. Ele é derivado do Support Vector Machine. Alguns elementos básicos do SVM ainda estão presentes como **maximun margin**. O SVR utiliza a função epsilon para ignorar os errors das obsevações que estão presentes dentro da **maximun margin**, também chamada de epsilon _intensive band_. Na execução do SVR as features são mapeadas para um espaço dimensional de _m_ dimensões usando um mapeamento não linear, então o modelo é construido utilizando esse espaço dimensional.\n",
    "\n",
    "\n",
    "Em conjunto com a epsilon _intensive loss function_ é possível obter uma boa generalização dos dados\n",
    "Referência: < http://kernelsvm.tripod.com/ >"
   ]
  },
  {
   "cell_type": "code",
   "execution_count": 13,
   "metadata": {},
   "outputs": [],
   "source": [
    "df_test = df.drop(['plot_keywords'], axis=1)\n",
    "X = df_test.drop(['imdb_score'],axis=1)\n",
    "y = df_test['imdb_score']\n",
    "\n",
    "from sklearn.preprocessing import MinMaxScaler\n",
    "scaler = MinMaxScaler()\n",
    "X_scaled = scaler.fit_transform(X)\n",
    "\n",
    "from  sklearn.model_selection import train_test_split\n",
    "X_train, X_test, y_train, y_test = train_test_split(X_scaled, y, test_size=0.3)\n",
    "\n",
    "from sklearn.linear_model import LinearRegression\n",
    "\n",
    "from sklearn.svm import SVR\n",
    "\n"
   ]
  },
  {
   "cell_type": "code",
   "execution_count": 18,
   "metadata": {},
   "outputs": [],
   "source": [
    "results = []\n",
    "for x in np.arange(0.1,11,0.1):\n",
    "    svr = SVR(kernel='linear', C=x)\n",
    "    svr.fit(X_train,y_train)\n",
    "    results.append(svr.score(X_test,y_test))"
   ]
  },
  {
   "cell_type": "code",
   "execution_count": 19,
   "metadata": {},
   "outputs": [
    {
     "data": {
      "text/plain": [
       "[0.38243633536862476,\n",
       " 0.39126498714326824,\n",
       " 0.3958653488147389,\n",
       " 0.3982238244543465,\n",
       " 0.3985274894659182,\n",
       " 0.39986122941450775,\n",
       " 0.39987467750722755,\n",
       " 0.40036642391465305,\n",
       " 0.40067220183206703,\n",
       " 0.4007659114553798,\n",
       " 0.4010479789533794,\n",
       " 0.40125704934440387,\n",
       " 0.4013191189167947,\n",
       " 0.40130149019483746,\n",
       " 0.4013810685520306,\n",
       " 0.401407531276199,\n",
       " 0.40178321476991796,\n",
       " 0.4019272208137654,\n",
       " 0.4020993599433518,\n",
       " 0.4023386046470203,\n",
       " 0.40263474275624167,\n",
       " 0.402958362944286,\n",
       " 0.40316702217542877,\n",
       " 0.40323539776580875,\n",
       " 0.4033813617585343,\n",
       " 0.40353832764423514,\n",
       " 0.40345271106255837,\n",
       " 0.4031813829993308,\n",
       " 0.40315265050765914,\n",
       " 0.4030974320872531,\n",
       " 0.4032530259304956,\n",
       " 0.40306433361558786,\n",
       " 0.4030219367928397,\n",
       " 0.40303915442630556,\n",
       " 0.4030108513346887,\n",
       " 0.40316041987255136,\n",
       " 0.40327580541187524,\n",
       " 0.40341740568779527,\n",
       " 0.40343106268063905,\n",
       " 0.4033718660526795,\n",
       " 0.4033503905269419,\n",
       " 0.403331374143563,\n",
       " 0.4033917127590144,\n",
       " 0.40335856070939796,\n",
       " 0.4032041865456101,\n",
       " 0.40318298178713263,\n",
       " 0.4032387097122347,\n",
       " 0.4031703660857532,\n",
       " 0.40310948126077095,\n",
       " 0.4031090185418935,\n",
       " 0.4032087518379455,\n",
       " 0.40297452692935165,\n",
       " 0.40299487567693115,\n",
       " 0.40293550356187635,\n",
       " 0.4029530369273724,\n",
       " 0.4028384324155374,\n",
       " 0.4029165918809545,\n",
       " 0.40284662270476107,\n",
       " 0.4029294374523101,\n",
       " 0.4029530993146593,\n",
       " 0.40296949631305734,\n",
       " 0.40298958981513117,\n",
       " 0.4029498175289411,\n",
       " 0.4030124678063515,\n",
       " 0.4030087711307453,\n",
       " 0.40303285076120376,\n",
       " 0.40305742820870527,\n",
       " 0.40308696461448934,\n",
       " 0.4030250475332888,\n",
       " 0.40311233064418706,\n",
       " 0.40300890845798865,\n",
       " 0.4030979200462347,\n",
       " 0.4030216187079516,\n",
       " 0.40301487685867865,\n",
       " 0.4030253954408674,\n",
       " 0.40304192059683186,\n",
       " 0.4030914021738621,\n",
       " 0.4030744929047049,\n",
       " 0.4029926640191881,\n",
       " 0.4030042370627261,\n",
       " 0.4030447892163479,\n",
       " 0.4030265709606524,\n",
       " 0.4030682214651771,\n",
       " 0.4030696727888266,\n",
       " 0.40305178128613484,\n",
       " 0.4029699485281583,\n",
       " 0.402985963869122,\n",
       " 0.4030275842294284,\n",
       " 0.4030437352448362,\n",
       " 0.4030691292992883,\n",
       " 0.40311365727266524,\n",
       " 0.4031092354152527,\n",
       " 0.4030341663631311,\n",
       " 0.40302356102432435,\n",
       " 0.4030827485357298,\n",
       " 0.4030803075299856,\n",
       " 0.4030329799335701,\n",
       " 0.40307549162790424,\n",
       " 0.4030659315177415,\n",
       " 0.4030824382687487,\n",
       " 0.4030997635122206,\n",
       " 0.4030645922514401,\n",
       " 0.4030851736611627,\n",
       " 0.4031039852446581,\n",
       " 0.40307757589472626,\n",
       " 0.4030874532042859,\n",
       " 0.4030457977571572,\n",
       " 0.4030382089741649,\n",
       " 0.40306526135636667]"
      ]
     },
     "execution_count": 19,
     "metadata": {},
     "output_type": "execute_result"
    }
   ],
   "source": [
    "results"
   ]
  },
  {
   "cell_type": "code",
   "execution_count": 31,
   "metadata": {},
   "outputs": [
    {
     "data": {
      "text/plain": [
       "0.017358448162723583"
      ]
     },
     "execution_count": 31,
     "metadata": {},
     "output_type": "execute_result"
    }
   ],
   "source": [
    "svr = SVR(kernel='rbf')\n",
    "svr.fit(X_train,y_train)\n",
    "svr.score(X_test,y_test)"
   ]
  },
  {
   "cell_type": "code",
   "execution_count": 30,
   "metadata": {},
   "outputs": [
    {
     "data": {
      "text/plain": [
       "-4911.292485030349"
      ]
     },
     "execution_count": 30,
     "metadata": {},
     "output_type": "execute_result"
    }
   ],
   "source": [
    "from sklearn.svm import LinearSVR\n",
    "svrl = LinearSVR()\n",
    "svrl.fit(X_train,y_train)\n",
    "svrl.score(X_test,y_test)"
   ]
  },
  {
   "cell_type": "code",
   "execution_count": 28,
   "metadata": {},
   "outputs": [],
   "source": [
    "df = df[['imdb_score','director_facebook_likes','duration','actor_1_facebook_likes','actor_2_facebook_likes','actor_3_facebook_likes','facenumber_in_poster','budget']]\n",
    "df.dropna(inplace=True)\n",
    "X = df.drop(['imdb_score'],axis=1)\n",
    "y = df['imdb_score']\n",
    "from  sklearn.model_selection import train_test_split\n",
    "X_train, X_test, y_train, y_test = train_test_split(X, y, test_size=0.3)"
   ]
  },
  {
   "cell_type": "code",
   "execution_count": 29,
   "metadata": {},
   "outputs": [
    {
     "data": {
      "text/plain": [
       "0.1583088666507414"
      ]
     },
     "execution_count": 29,
     "metadata": {},
     "output_type": "execute_result"
    }
   ],
   "source": [
    "from sklearn.ensemble import RandomForestRegressor\n",
    "rfr = RandomForestRegressor()\n",
    "rfr.fit(X_train,y_train)\n",
    "rfr.score(X_test,y_test)"
   ]
  },
  {
   "cell_type": "markdown",
   "metadata": {},
   "source": [
    "# K-fold"
   ]
  },
  {
   "cell_type": "markdown",
   "metadata": {},
   "source": [
    "## Linear Regression"
   ]
  },
  {
   "cell_type": "code",
   "execution_count": 16,
   "metadata": {},
   "outputs": [
    {
     "name": "stdout",
     "output_type": "stream",
     "text": [
      "0.39817386175261066\n"
     ]
    }
   ],
   "source": [
    "from sklearn.model_selection import cross_val_score\n",
    "cv_result = cross_val_score(LinearRegression(),X,y,cv=5)\n",
    "print(np.mean(cv_result))"
   ]
  },
  {
   "cell_type": "markdown",
   "metadata": {},
   "source": [
    "## SVR Linear"
   ]
  },
  {
   "cell_type": "code",
   "execution_count": 22,
   "metadata": {},
   "outputs": [],
   "source": [
    "cv_result = cross_val_score(SVR(kernel='linear'), X, y, cv=5)"
   ]
  },
  {
   "cell_type": "code",
   "execution_count": 23,
   "metadata": {},
   "outputs": [
    {
     "data": {
      "text/plain": [
       "-12492514.265843943"
      ]
     },
     "execution_count": 23,
     "metadata": {},
     "output_type": "execute_result"
    }
   ],
   "source": [
    "np.mean(cv_result)"
   ]
  },
  {
   "cell_type": "markdown",
   "metadata": {},
   "source": [
    "## SVR rbf"
   ]
  },
  {
   "cell_type": "code",
   "execution_count": 24,
   "metadata": {},
   "outputs": [],
   "source": [
    "cv_result = cross_val_score(SVR(kernel='rbf'), X, y, cv=5)"
   ]
  },
  {
   "cell_type": "code",
   "execution_count": 25,
   "metadata": {},
   "outputs": [
    {
     "data": {
      "text/plain": [
       "0.006028421304931131"
      ]
     },
     "execution_count": 25,
     "metadata": {},
     "output_type": "execute_result"
    }
   ],
   "source": [
    "np.mean(cv_result)"
   ]
  }
 ],
 "metadata": {
  "kernelspec": {
   "display_name": "Python 3",
   "language": "python",
   "name": "python3"
  },
  "language_info": {
   "codemirror_mode": {
    "name": "ipython",
    "version": 3
   },
   "file_extension": ".py",
   "mimetype": "text/x-python",
   "name": "python",
   "nbconvert_exporter": "python",
   "pygments_lexer": "ipython3",
   "version": "3.5.2"
  }
 },
 "nbformat": 4,
 "nbformat_minor": 2
}
