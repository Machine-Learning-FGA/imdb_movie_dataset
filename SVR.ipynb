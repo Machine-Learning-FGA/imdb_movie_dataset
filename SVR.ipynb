{
 "cells": [
  {
   "cell_type": "markdown",
   "metadata": {},
   "source": [
    "# Pre processing"
   ]
  },
  {
   "cell_type": "code",
   "execution_count": 1,
   "metadata": {},
   "outputs": [],
   "source": [
    "import pandas as pd\n",
    "import numpy as np\n",
    "import seaborn as sns\n",
    "import matplotlib.pyplot as plt\n",
    "%matplotlib inline"
   ]
  },
  {
   "cell_type": "code",
   "execution_count": 2,
   "metadata": {},
   "outputs": [],
   "source": [
    "df = pd.read_csv('data/movie_metadata.csv')"
   ]
  },
  {
   "cell_type": "code",
   "execution_count": 3,
   "metadata": {},
   "outputs": [],
   "source": [
    "for column in df.select_dtypes(['float64','int64']).columns:\n",
    "    df[column] = df[column].fillna(value=np.mean(df[column]))"
   ]
  },
  {
   "cell_type": "code",
   "execution_count": 4,
   "metadata": {},
   "outputs": [],
   "source": [
    "df.dropna(inplace=True)"
   ]
  },
  {
   "cell_type": "code",
   "execution_count": 5,
   "metadata": {},
   "outputs": [],
   "source": [
    "df.drop(columns=['aspect_ratio','title_year','facenumber_in_poster','director_facebook_likes','actor_3_facebook_likes','actor_1_facebook_likes','gross','cast_total_facebook_likes','actor_2_facebook_likes', 'budget'],inplace=True)"
   ]
  },
  {
   "cell_type": "code",
   "execution_count": 6,
   "metadata": {},
   "outputs": [],
   "source": [
    "for column in ['genres','color','content_rating']:\n",
    "    dummies = pd.DataFrame(pd.Series(df[column]).str.get_dummies())\n",
    "    df = pd.concat([df,dummies], axis = 1)\n",
    "    df.drop([column],axis=1,inplace=True)"
   ]
  },
  {
   "cell_type": "code",
   "execution_count": 7,
   "metadata": {},
   "outputs": [],
   "source": [
    "from sklearn import preprocessing\n",
    "le_actors = preprocessing.LabelEncoder()"
   ]
  },
  {
   "cell_type": "code",
   "execution_count": 8,
   "metadata": {},
   "outputs": [],
   "source": [
    "all_actors = pd.concat([df['actor_1_name'], df['actor_2_name'], df['actor_3_name']], ignore_index=True)\n",
    "\n",
    "\n",
    "le_actors.fit(all_actors)\n",
    "le_actors.classes_\n",
    "\n",
    "numeric_actor_1 = le_actors.transform(df['actor_1_name'])\n",
    "df['actor_1_name'] = numeric_actor_1\n",
    "\n",
    "\n",
    "numeric_actor_2 = le_actors.transform(df['actor_2_name'])\n",
    "df['actor_2_name'] = numeric_actor_2\n",
    "\n",
    "numeric_actor_3 = le_actors.transform(df['actor_3_name'])\n",
    "df['actor_3_name'] = numeric_actor_3"
   ]
  },
  {
   "cell_type": "code",
   "execution_count": 9,
   "metadata": {},
   "outputs": [],
   "source": [
    "le_director_name = preprocessing.LabelEncoder()\n",
    "le_director_name.fit(df['director_name'])\n",
    "le_director_name.classes_\n",
    "\n",
    "numeric_director = le_director_name.transform(df['director_name'])\n",
    "df['director_name'] = numeric_director"
   ]
  },
  {
   "cell_type": "code",
   "execution_count": 10,
   "metadata": {},
   "outputs": [],
   "source": [
    "df.drop(['movie_imdb_link', 'movie_title'], axis=1,inplace=True)"
   ]
  },
  {
   "cell_type": "code",
   "execution_count": 11,
   "metadata": {},
   "outputs": [],
   "source": [
    "le_language = preprocessing.LabelEncoder()\n",
    "le_language.fit(df['language'])\n",
    "le_language.classes_\n",
    "\n",
    "numeric_language = le_language.transform(df['language'])\n",
    "df['language'] = numeric_language"
   ]
  },
  {
   "cell_type": "code",
   "execution_count": 12,
   "metadata": {},
   "outputs": [],
   "source": [
    "le_country = preprocessing.LabelEncoder()\n",
    "le_country.fit(df['country'])\n",
    "le_country.classes_\n",
    "\n",
    "numeric_country = le_country.transform(df['country'])\n",
    "df['country'] = numeric_country"
   ]
  },
  {
   "cell_type": "markdown",
   "metadata": {},
   "source": [
    "# SVR"
   ]
  },
  {
   "cell_type": "markdown",
   "metadata": {},
   "source": [
    "SVR é um método de regressão supervisionado de machine learning. Ele é derivado do Support Vector Machine. Alguns elementos básicos do SVM ainda estão presentes como **maximun margin**. O SVR utiliza a função epsilon para ignorar os errors das obsevações que estão presentes dentro da **maximun margin**, também chamada de epsilon _intensive band_. Na execução do SVR as features são mapeadas para um espaço dimensional de _m_ dimensões usando um mapeamento não linear, então o modelo é construido utilizando esse espaço dimensional.\n",
    "\n",
    "\n",
    "Em conjunto com a epsilon _intensive loss function_ é possível obter uma boa generalização dos dados\n",
    "Referência: < http://kernelsvm.tripod.com/ >"
   ]
  },
  {
   "cell_type": "code",
   "execution_count": 13,
   "metadata": {},
   "outputs": [],
   "source": [
    "df_test = df.drop(['plot_keywords'], axis=1)\n",
    "X = df_test.drop(['imdb_score'],axis=1)\n",
    "y = df_test['imdb_score']\n",
    "\n",
    "from sklearn.preprocessing import MinMaxScaler\n",
    "scaler = MinMaxScaler()\n",
    "X_scaled = scaler.fit_transform(X)\n",
    "\n",
    "from  sklearn.model_selection import train_test_split\n",
    "X_train, X_test, y_train, y_test = train_test_split(X_scaled, y, test_size=0.3)\n",
    "\n",
    "from sklearn.linear_model import LinearRegression\n",
    "\n",
    "from sklearn.svm import SVR\n",
    "\n"
   ]
  },
  {
   "cell_type": "code",
   "execution_count": 14,
   "metadata": {},
   "outputs": [],
   "source": [
    "results = []\n",
    "for x in np.arange(0.1,11,0.1):\n",
    "    svr = SVR(kernel='linear', C=x)\n",
    "    svr.fit(X_train,y_train)\n",
    "    results.append(svr.score(X_test,y_test))"
   ]
  },
  {
   "cell_type": "code",
   "execution_count": 15,
   "metadata": {},
   "outputs": [
    {
     "data": {
      "text/plain": [
       "[0.3929707338434455,\n",
       " 0.4021618316000198,\n",
       " 0.4071313011314531,\n",
       " 0.4092096276263281,\n",
       " 0.4097946143083376,\n",
       " 0.41124914460327544,\n",
       " 0.41211772041276323,\n",
       " 0.41289995126488443,\n",
       " 0.4136321831514781,\n",
       " 0.4138709687578012,\n",
       " 0.413932157950654,\n",
       " 0.4140669950606789,\n",
       " 0.4143370655672289,\n",
       " 0.4148048657035499,\n",
       " 0.4149609358724558,\n",
       " 0.41514198122047996,\n",
       " 0.41526859214957457,\n",
       " 0.41535551465012044,\n",
       " 0.415288395254368,\n",
       " 0.41518582092851225,\n",
       " 0.4153155735614727,\n",
       " 0.4152851446040393,\n",
       " 0.4155338348083057,\n",
       " 0.415829502784293,\n",
       " 0.4165941695326623,\n",
       " 0.4166329907794656,\n",
       " 0.4168468778154647,\n",
       " 0.4172839965612746,\n",
       " 0.41730929704471875,\n",
       " 0.4173658796183431,\n",
       " 0.41747070574071576,\n",
       " 0.41744120893296077,\n",
       " 0.4174676154729238,\n",
       " 0.4174973775230123,\n",
       " 0.4175140293874852,\n",
       " 0.41754277779951876,\n",
       " 0.41763377954802383,\n",
       " 0.41759329143479096,\n",
       " 0.41762684277642576,\n",
       " 0.4177135070369804,\n",
       " 0.418076749093125,\n",
       " 0.41813019549129393,\n",
       " 0.41822853539100946,\n",
       " 0.41819538567206954,\n",
       " 0.41819909768564395,\n",
       " 0.4180957160227263,\n",
       " 0.4180574909476131,\n",
       " 0.4180644145315959,\n",
       " 0.4181288958674173,\n",
       " 0.418157416744526,\n",
       " 0.4181926192718372,\n",
       " 0.4182309243259669,\n",
       " 0.4183555681780106,\n",
       " 0.418406412848523,\n",
       " 0.4184796502261045,\n",
       " 0.4185023445411563,\n",
       " 0.418421356227712,\n",
       " 0.418500173400997,\n",
       " 0.4185336911122346,\n",
       " 0.41854235431919384,\n",
       " 0.4184781552459361,\n",
       " 0.4185116515618903,\n",
       " 0.4185201351085704,\n",
       " 0.418528072210803,\n",
       " 0.41851467374612006,\n",
       " 0.4185127884659218,\n",
       " 0.4184775136239055,\n",
       " 0.41852912500635897,\n",
       " 0.4186134532019099,\n",
       " 0.4185217625425358,\n",
       " 0.4185590041099214,\n",
       " 0.4184748376616809,\n",
       " 0.41852377507075456,\n",
       " 0.4185487695997597,\n",
       " 0.4185767995265097,\n",
       " 0.41856734120763894,\n",
       " 0.41855058737808865,\n",
       " 0.41859433010040453,\n",
       " 0.4185766875819401,\n",
       " 0.41857969985391286,\n",
       " 0.4185804117427729,\n",
       " 0.418507719028051,\n",
       " 0.4185479348689402,\n",
       " 0.4185772111719107,\n",
       " 0.41855327847129886,\n",
       " 0.4185702978046243,\n",
       " 0.41859666942521406,\n",
       " 0.4186020994988048,\n",
       " 0.41851398343282187,\n",
       " 0.4185975372493508,\n",
       " 0.4185530413731706,\n",
       " 0.41850677124392066,\n",
       " 0.41855914842626196,\n",
       " 0.4185605325427135,\n",
       " 0.4186178920573811,\n",
       " 0.41850650401343625,\n",
       " 0.41855233217847065,\n",
       " 0.41855586539090656,\n",
       " 0.4185333823645887,\n",
       " 0.4186064045847756,\n",
       " 0.41863312155526805,\n",
       " 0.4185757642246649,\n",
       " 0.4186480278401009,\n",
       " 0.4186718914060338,\n",
       " 0.4186448369691126,\n",
       " 0.41872795978450855,\n",
       " 0.4187139370417948,\n",
       " 0.418732521791686,\n",
       " 0.41878419542092127]"
      ]
     },
     "execution_count": 15,
     "metadata": {},
     "output_type": "execute_result"
    }
   ],
   "source": [
    "results"
   ]
  },
  {
   "cell_type": "code",
   "execution_count": 16,
   "metadata": {},
   "outputs": [
    {
     "data": {
      "text/plain": [
       "0.37675439384430776"
      ]
     },
     "execution_count": 16,
     "metadata": {},
     "output_type": "execute_result"
    }
   ],
   "source": [
    "svr = SVR(kernel='rbf')\n",
    "svr.fit(X_train,y_train)\n",
    "svr.score(X_test,y_test)"
   ]
  },
  {
   "cell_type": "code",
   "execution_count": 17,
   "metadata": {},
   "outputs": [
    {
     "data": {
      "text/plain": [
       "0.417062604323689"
      ]
     },
     "execution_count": 17,
     "metadata": {},
     "output_type": "execute_result"
    }
   ],
   "source": [
    "from sklearn.svm import LinearSVR\n",
    "svrl = LinearSVR()\n",
    "svrl.fit(X_train,y_train)\n",
    "svrl.score(X_test,y_test)"
   ]
  },
  {
   "cell_type": "markdown",
   "metadata": {},
   "source": [
    "# K-fold"
   ]
  },
  {
   "cell_type": "markdown",
   "metadata": {},
   "source": [
    "## Linear Regression"
   ]
  },
  {
   "cell_type": "code",
   "execution_count": 18,
   "metadata": {},
   "outputs": [
    {
     "name": "stdout",
     "output_type": "stream",
     "text": [
      "0.39817386175261066\n"
     ]
    }
   ],
   "source": [
    "from sklearn.model_selection import cross_val_score\n",
    "cv_result = cross_val_score(LinearRegression(),X,y,cv=5)\n",
    "print(np.mean(cv_result))"
   ]
  }
 ],
 "metadata": {
  "kernelspec": {
   "display_name": "Python 3",
   "language": "python",
   "name": "python3"
  },
  "language_info": {
   "codemirror_mode": {
    "name": "ipython",
    "version": 3
   },
   "file_extension": ".py",
   "mimetype": "text/x-python",
   "name": "python",
   "nbconvert_exporter": "python",
   "pygments_lexer": "ipython3",
   "version": "3.6.5"
  }
 },
 "nbformat": 4,
 "nbformat_minor": 2
}
