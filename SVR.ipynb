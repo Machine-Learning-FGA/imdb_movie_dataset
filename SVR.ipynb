{
 "cells": [
  {
   "cell_type": "code",
   "execution_count": 1,
   "metadata": {},
   "outputs": [],
   "source": [
    "import pandas as pd\n",
    "import numpy as np\n",
    "import seaborn as sns\n",
    "import matplotlib.pyplot as plt\n",
    "%matplotlib inline"
   ]
  },
  {
   "cell_type": "code",
   "execution_count": 2,
   "metadata": {},
   "outputs": [],
   "source": [
    "df = pd.read_csv('data/movie_metadata.csv')"
   ]
  },
  {
   "cell_type": "code",
   "execution_count": 3,
   "metadata": {},
   "outputs": [],
   "source": [
    "for column in df.select_dtypes(['float64','int64']).columns:\n",
    "    df[column] = df[column].fillna(value=np.mean(df[column]))"
   ]
  },
  {
   "cell_type": "code",
   "execution_count": 4,
   "metadata": {},
   "outputs": [],
   "source": [
    "df.dropna(inplace=True)"
   ]
  },
  {
   "cell_type": "code",
   "execution_count": 5,
   "metadata": {},
   "outputs": [],
   "source": [
    "df.drop(columns=['aspect_ratio','title_year','facenumber_in_poster','director_facebook_likes','actor_3_facebook_likes','actor_1_facebook_likes','gross','cast_total_facebook_likes','actor_2_facebook_likes', 'budget'],inplace=True)"
   ]
  },
  {
   "cell_type": "code",
   "execution_count": 6,
   "metadata": {},
   "outputs": [],
   "source": [
    "for column in ['genres','color','content_rating']:\n",
    "    dummies = pd.DataFrame(pd.Series(df[column]).str.get_dummies())\n",
    "    df = pd.concat([df,dummies], axis = 1)\n",
    "    df.drop([column],axis=1,inplace=True)"
   ]
  },
  {
   "cell_type": "code",
   "execution_count": 7,
   "metadata": {},
   "outputs": [],
   "source": [
    "from sklearn import preprocessing\n",
    "le_actors = preprocessing.LabelEncoder()"
   ]
  },
  {
   "cell_type": "code",
   "execution_count": 8,
   "metadata": {},
   "outputs": [],
   "source": [
    "all_actors = pd.concat([df['actor_1_name'], df['actor_2_name'], df['actor_3_name']], ignore_index=True)\n",
    "\n",
    "\n",
    "le_actors.fit(all_actors)\n",
    "le_actors.classes_\n",
    "\n",
    "numeric_actor_1 = le_actors.transform(df['actor_1_name'])\n",
    "df['actor_1_name'] = numeric_actor_1\n",
    "\n",
    "\n",
    "numeric_actor_2 = le_actors.transform(df['actor_2_name'])\n",
    "df['actor_2_name'] = numeric_actor_2\n",
    "\n",
    "numeric_actor_3 = le_actors.transform(df['actor_3_name'])\n",
    "df['actor_3_name'] = numeric_actor_3"
   ]
  },
  {
   "cell_type": "code",
   "execution_count": 9,
   "metadata": {},
   "outputs": [],
   "source": [
    "le_director_name = preprocessing.LabelEncoder()\n",
    "le_director_name.fit(df['director_name'])\n",
    "le_director_name.classes_\n",
    "\n",
    "numeric_director = le_director_name.transform(df['director_name'])\n",
    "df['director_name'] = numeric_director"
   ]
  },
  {
   "cell_type": "code",
   "execution_count": 10,
   "metadata": {},
   "outputs": [],
   "source": [
    "df.drop(['movie_imdb_link', 'movie_title'], axis=1,inplace=True)"
   ]
  },
  {
   "cell_type": "code",
   "execution_count": 11,
   "metadata": {},
   "outputs": [],
   "source": [
    "le_language = preprocessing.LabelEncoder()\n",
    "le_language.fit(df['language'])\n",
    "le_language.classes_\n",
    "\n",
    "numeric_language = le_language.transform(df['language'])\n",
    "df['language'] = numeric_language"
   ]
  },
  {
   "cell_type": "code",
   "execution_count": 12,
   "metadata": {},
   "outputs": [],
   "source": [
    "le_country = preprocessing.LabelEncoder()\n",
    "le_country.fit(df['country'])\n",
    "le_country.classes_\n",
    "\n",
    "numeric_country = le_country.transform(df['country'])\n",
    "df['country'] = numeric_country"
   ]
  },
  {
   "cell_type": "code",
   "execution_count": 13,
   "metadata": {},
   "outputs": [
    {
     "name": "stdout",
     "output_type": "stream",
     "text": [
      "0.39817386175261316\n"
     ]
    }
   ],
   "source": [
    "df_test = df.drop(['plot_keywords'], axis=1)\n",
    "X = df_test.drop(['imdb_score'],axis=1)\n",
    "y = df_test['imdb_score']\n",
    "\n",
    "from sklearn.preprocessing import MinMaxScaler\n",
    "scaler = MinMaxScaler()\n",
    "X_scaled = scaler.fit_transform(X)\n",
    "\n",
    "from  sklearn.model_selection import train_test_split\n",
    "X_train, X_test, y_train, y_test = train_test_split(X_scaled, y, test_size=0.3)\n",
    "\n",
    "from sklearn.linear_model import LinearRegression\n",
    "\n",
    "from sklearn.svm import SVR\n",
    "\n",
    "from sklearn.model_selection import cross_val_score\n",
    "cv_result = cross_val_score(LinearRegression(),X,y,cv=5)\n",
    "print(np.mean(cv_result))"
   ]
  },
  {
   "cell_type": "code",
   "execution_count": 14,
   "metadata": {},
   "outputs": [
    {
     "data": {
      "text/plain": [
       "0.43979023568508163"
      ]
     },
     "execution_count": 14,
     "metadata": {},
     "output_type": "execute_result"
    }
   ],
   "source": [
    "svr = SVR(kernel='linear')\n",
    "svr.fit(X_train,y_train)\n",
    "svr.score(X_test,y_test)"
   ]
  },
  {
   "cell_type": "code",
   "execution_count": 15,
   "metadata": {},
   "outputs": [
    {
     "data": {
      "text/plain": [
       "0.39680786226369136"
      ]
     },
     "execution_count": 15,
     "metadata": {},
     "output_type": "execute_result"
    }
   ],
   "source": [
    "svr = SVR(kernel='rbf')\n",
    "svr.fit(X_train,y_train)\n",
    "svr.score(X_test,y_test)"
   ]
  },
  {
   "cell_type": "code",
   "execution_count": null,
   "metadata": {},
   "outputs": [],
   "source": []
  }
 ],
 "metadata": {
  "kernelspec": {
   "display_name": "Python 3",
   "language": "python",
   "name": "python3"
  },
  "language_info": {
   "codemirror_mode": {
    "name": "ipython",
    "version": 3
   },
   "file_extension": ".py",
   "mimetype": "text/x-python",
   "name": "python",
   "nbconvert_exporter": "python",
   "pygments_lexer": "ipython3",
   "version": "3.5.2"
  }
 },
 "nbformat": 4,
 "nbformat_minor": 2
}
